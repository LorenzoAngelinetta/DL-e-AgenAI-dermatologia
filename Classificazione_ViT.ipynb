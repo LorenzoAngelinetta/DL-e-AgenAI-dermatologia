{
  "nbformat": 4,
  "nbformat_minor": 0,
  "metadata": {
    "colab": {
      "provenance": [],
      "machine_shape": "hm"
    },
    "kernelspec": {
      "name": "python3",
      "display_name": "Python 3"
    },
    "language_info": {
      "name": "python"
    }
  },
  "cells": [
    {
      "cell_type": "markdown",
      "source": [
        "Modello 'vit-base-HAM-10000-patch-32' addestrato su HAM10000:"
      ],
      "metadata": {
        "id": "ZqWI7SMKd-Tm"
      }
    },
    {
      "cell_type": "code",
      "source": [
        "#INSTALLAZIONE DELLE LIBRERIE\n",
        "!pip install transformers\n",
        "from transformers import ViTImageProcessor, ViTForImageClassification\n",
        "from PIL import Image\n",
        "from sklearn.metrics import accuracy_score, confusion_matrix\n",
        "import torch\n",
        "import torch.nn.functional as F\n",
        "from google.colab import drive\n",
        "from torch.utils.data import DataLoader\n",
        "from torchvision import datasets, transforms\n",
        "import os\n",
        "import pandas as pd\n",
        "import json\n",
        "import matplotlib.pyplot as plt\n",
        "import seaborn as sns\n",
        "\n",
        "#ACCESSO A DRIVE\n",
        "drive.mount('/content/drive')\n",
        "path_valutazione = \"/content/drive/MyDrive/Tesi_Angelinetta_Lorenzo/ISIC_TEST\"\n",
        "path_csv = \"/content/drive/MyDrive/Tesi_Angelinetta_Lorenzo/ISIC_labels.csv\"\n",
        "path_prova = \"/content/drive/MyDrive/Tesi_Angelinetta_Lorenzo/Img_prova\"\n",
        "json_path = \"/content/drive/MyDrive/Tesi_Angelinetta_Lorenzo/Salvataggi_JSON_finali/classificazione_ViT.json\"\n",
        "\n",
        "#RISORSE DI CALCOLO\n",
        "device = torch.device(\"cuda\" if torch.cuda.is_available() else \"cpu\")"
      ],
      "metadata": {
        "id": "leJl-G-yz10_"
      },
      "execution_count": null,
      "outputs": []
    },
    {
      "cell_type": "code",
      "source": [
        "#DIZIONARIO DELLE CLASSI PER AVERE IL NOME DELLA CLASSE IDENTIFICATA DA HAM10000\n",
        "etichette_classi = {\n",
        "    0: \"Cheratosi attiniche e carcinoma intraepiteliale / malattia di Bowen (akiec)\",\n",
        "    1: \"Carcinoma basocellulare (bcc)\",\n",
        "    2: \"Lesioni benigne simili a cheratosi (bkl)\",\n",
        "    3: \"Dermatofibroma (df)\",\n",
        "    4: \"Melanoma (mel)\",\n",
        "    5: \"Nevi melanocitici (nv)\",\n",
        "    6: \"Lesioni vascolari (vasc)\"\n",
        "}\n",
        "\n",
        "acronimo_classi = {0: \"akiec\", 1: \"bcc\", 2: \"bkl\", 3: \"df\", 4: \"mel\", 5: \"nv\", 6: \"vasc\"}\n",
        "acronimo_classi_inverso = {\"akiec\": 0, \"bcc\": 1, \"bkl\": 2, \"df\": 3, \"mel\": 4, \"nv\": 5, \"vasc\": 6}\n",
        "\n",
        "#CARICAMENTO DEL MODELLO HAM10000\n",
        "nome_modello = \"ahishamm/vit-base-HAM-10000-patch-32\"\n",
        "processore_img = ViTImageProcessor.from_pretrained(nome_modello) #caricamento processore immagini\n",
        "model_ham10000 = ViTForImageClassification.from_pretrained(nome_modello) #caricamento modello"
      ],
      "metadata": {
        "id": "5jI5Et0aC0Vg"
      },
      "execution_count": null,
      "outputs": []
    },
    {
      "cell_type": "code",
      "source": [
        "#CERCA SE ESISTE FILE PER SALVATAGGIO ANALISI E NEL CASO LO RITORNA\n",
        "def carica_dati():\n",
        "    if os.path.exists(json_path):\n",
        "        with open(json_path, \"r\") as f:\n",
        "            return json.load(f)\n",
        "    return {\"valutate\": []}\n",
        "\n",
        "#SALVATAGGIO SU FILE NUOVA ANALISI\n",
        "def salva_dati():\n",
        "    with open(json_path, \"w\") as f:\n",
        "        json.dump(dati, f, indent=4)\n",
        "\n",
        "#CARICAMENTO DEL FILE CSV PER SCEGLIERE IMG\n",
        "dati = carica_dati()\n",
        "df = pd.read_csv(path_csv)  #selezione immagini\n",
        "df = df.set_index(\"image\") #nome dell'immagine sarà l'indice\n",
        "\n",
        "img_test = sorted([os.path.join(path_valutazione, img) for img in os.listdir(path_valutazione) if img.lower().endswith(('png', 'jpg', 'jpeg'))]) #lista delle img ordinate\n",
        "img_test = [img for img in img_test if img not in [d[\"img\"] for d in dati[\"valutate\"]]] #lista togliendo le img già valutate\n",
        "\n",
        "#SALVATAGGIO DELL'ANALISI\n",
        "with torch.no_grad(): #modalità valutazione\n",
        "    for img_path in img_test:\n",
        "        img_name = os.path.basename(img_path).split('.')[0] #nome immagine senza estensione\n",
        "\n",
        "        if img_name in df.index: #verifico classificazione corretta nel csv\n",
        "            classificazione_reale = df.loc[img_name].idxmax().lower() #Cerca tipo di lesione nel csv per quell'immagine\n",
        "            classificazione_reale_numerica = acronimo_classi_inverso.get(classificazione_reale) #converte in numero\n",
        "\n",
        "        img = Image.open(img_path)\n",
        "        inputs = processore_img(images=img, return_tensors=\"pt\").to(device)\n",
        "        outputs = model_ham10000(**inputs)\n",
        "        logits = outputs.logits\n",
        "\n",
        "        classificazione_vit_numerica = torch.argmax(logits, dim=-1).item()\n",
        "        classificazione_vit = etichette_classi[classificazione_vit_numerica]\n",
        "\n",
        "        print(f\"Image: {img_path} - ViT: {classificazione_vit} - Real class: {classificazione_reale}\")\n",
        "\n",
        "        dati[\"valutate\"].append({\n",
        "                \"img\": img_path,\n",
        "                \"reale\": \"lesione cutanea\",\n",
        "                \"classe_giusta\": classificazione_reale,\n",
        "                \"classe_giusta_numerica\": classificazione_reale_numerica,\n",
        "                \"classificazione_vit\": classificazione_vit,\n",
        "                \"classificazione_vit_numerica\": classificazione_vit_numerica\n",
        "        })\n",
        "        salva_dati()\n",
        "    print(\"The list of image is finished. Check the metrics value.\")\n"
      ],
      "metadata": {
        "id": "EUciCEMoxglu",
        "colab": {
          "base_uri": "https://localhost:8080/",
          "height": 35
        },
        "outputId": "073f450d-6d13-4d23-d17d-e465177ed898"
      },
      "execution_count": null,
      "outputs": [
        {
          "output_type": "stream",
          "name": "stdout",
          "text": [
            "The list of image is finished. Check the metrics value.\n"
          ]
        }
      ]
    },
    {
      "cell_type": "code",
      "source": [
        "if not dati[\"valutate\"]:\n",
        "    print(\"No data available for metric calculation.\")\n",
        "    exit()\n",
        "\n",
        "# Estraggo le etichette reali e predette con i nomi delle classi\n",
        "reale = [d[\"classe_giusta_numerica\"] for d in dati[\"valutate\"]]\n",
        "predetto = [d[\"classificazione_vit_numerica\"] for d in dati[\"valutate\"]]\n",
        "\n",
        "# Calcolo le metriche\n",
        "accuracy = accuracy_score(reale, predetto)\n",
        "conf_matrix = confusion_matrix(reale, predetto)\n",
        "\n",
        "# Stampa delle metriche e grafico\n",
        "print(f\"NUMBER OF IMAGES ANALYZED: {len(reale)}\\n\")\n",
        "print(f\"Accuracy classification: {accuracy * 100:.2f}%\\n\")\n",
        "print(\"Confusion Matrix Classification ViT:\\n\")\n",
        "\n",
        "plt.figure(figsize=(6, 4))\n",
        "sns.heatmap(conf_matrix, annot=True, fmt=\"d\", cmap=\"Blues\", cbar=False,\n",
        "            xticklabels=[acronimo_classi[i] for i in list(acronimo_classi.keys())],\n",
        "            yticklabels=[acronimo_classi[i] for i in list(acronimo_classi.keys())])\n",
        "plt.xlabel(\"Predicted\")\n",
        "plt.ylabel(\"Real\")\n",
        "plt.title(\"Confusion Matrix - Classification Skin Lesion ViT\")\n",
        "plt.xticks(rotation=45)\n",
        "plt.yticks(rotation=45)\n",
        "plt.show()"
      ],
      "metadata": {
        "colab": {
          "base_uri": "https://localhost:8080/",
          "height": 541
        },
        "id": "ECe54DYI0l32",
        "outputId": "f050c709-e4d5-40d9-f168-2d66fa0e3d13"
      },
      "execution_count": null,
      "outputs": [
        {
          "output_type": "stream",
          "name": "stdout",
          "text": [
            "NUMBER OF IMAGES ANALYZED: 1511\n",
            "\n",
            "Accuracy classification: 74.78%\n",
            "\n",
            "Confusion Matrix Classification ViT:\n",
            "\n"
          ]
        },
        {
          "output_type": "display_data",
          "data": {
            "text/plain": [
              "<Figure size 600x400 with 1 Axes>"
            ],
            "image/png": "[encoded data removed]"
          },
          "metadata": {}
        }
      ]
    },
    {
      "cell_type": "code",
      "source": [
        "#CONTA DA CSV IL NUMERO DI IMMAGINI PER CLASSE\n",
        "import pandas as pd\n",
        "\n",
        "df = pd.read_csv(path_csv)\n",
        "conteggio_classi = df.iloc[:, 1:].sum()\n",
        "print(conteggio_classi)"
      ],
      "metadata": {
        "colab": {
          "base_uri": "https://localhost:8080/"
        },
        "id": "hd0CeqFuI11H",
        "outputId": "02f69ed1-871a-4761-c971-2583d2eccd18"
      },
      "execution_count": null,
      "outputs": [
        {
          "output_type": "stream",
          "name": "stdout",
          "text": [
            "MEL      171.0\n",
            "NV       908.0\n",
            "BCC       93.0\n",
            "AKIEC     43.0\n",
            "BKL      217.0\n",
            "DF        44.0\n",
            "VASC      35.0\n",
            "dtype: float64\n"
          ]
        }
      ]
    },
    {
      "cell_type": "markdown",
      "source": [
        "Prova funzionamento con una sola foto"
      ],
      "metadata": {
        "id": "UTR9d0sjC4HE"
      }
    },
    {
      "cell_type": "code",
      "execution_count": null,
      "metadata": {
        "id": "cxBlsR6hd0XA",
        "colab": {
          "base_uri": "https://localhost:8080/"
        },
        "outputId": "a47acc61-449c-488e-a7c9-6dc6937dbbfc"
      },
      "outputs": [
        {
          "output_type": "stream",
          "name": "stdout",
          "text": [
            "Probabilità predizione per ogni classe:\n",
            "Cheratosi attiniche e carcinoma intraepiteliale / malattia di Bowen (akiec): 1.13%\n",
            "Carcinoma basocellulare (bcc): 10.14%\n",
            "Lesioni benigne simili a cheratosi (bkl): 4.39%\n",
            "Dermatofibroma (df): 1.23%\n",
            "Melanoma (mel): 53.94%\n",
            "Nevi melanocitici (nv): 4.31%\n",
            "Lesioni vascolari (vasc): 24.86%\n",
            "\n",
            "Classe Predetta dal modello HAM10000: Melanoma (mel)\n"
          ]
        }
      ],
      "source": [
        "#PREPARAZIONE IMMAGINE\n",
        "percorso_img = path_prova + \"/mel.jpg\"\n",
        "img = Image.open(percorso_img)\n",
        "inputs = processore_img(images=img, return_tensors=\"pt\") #preprocessa img prima di passarla al modello restituendo un tensore\n",
        "\n",
        "#ESECUZIONE DEL MODELLO\n",
        "with torch.no_grad(): #disattivo gradienti per modalità valutazione\n",
        "    outputs = model_ham10000.vit(**inputs) #passo img pre-processata (tensore) al modello per ottenere i risultati\n",
        "\n",
        "features = outputs.last_hidden_state[:, 0, :] #features penultimo strato\n",
        "logits = model_ham10000(**inputs).logits #tensore delle probabilità di ciascuna classe (valore più alto è classe più probabile)\n",
        "probabilita = F.softmax(logits, dim=-1) * 100 #conversione logits in probabilita con softmax\n",
        "classe_predizione = torch.argmax(logits, dim=-1).item() #classe predetta\n",
        "\n",
        "#STAMPA PROBABILITA' DELLE PREDIZIONI\n",
        "print(\"Probabilità predizione per ogni classe:\")\n",
        "for i, prob in enumerate(probabilita.squeeze().tolist()):\n",
        "    print(f\"{etichette_classi[i]}: {prob:.2f}%\")\n",
        "\n",
        "#STAMPA DELLA PREDIZIONE\n",
        "nome_classi = etichette_classi[classe_predizione] #conversione della classe\n",
        "print(f\"\\nClasse Predetta dal modello HAM10000: {nome_classi}\")"
      ]
    }
  ]
}